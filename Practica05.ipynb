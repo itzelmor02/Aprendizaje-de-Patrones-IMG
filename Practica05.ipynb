{
  "nbformat": 4,
  "nbformat_minor": 0,
  "metadata": {
    "colab": {
      "provenance": [],
      "authorship_tag": "ABX9TyNYxO0wLoqjXMle2YyhwjiV",
      "include_colab_link": true
    },
    "kernelspec": {
      "name": "python3",
      "display_name": "Python 3"
    },
    "language_info": {
      "name": "python"
    }
  },
  "cells": [
    {
      "cell_type": "markdown",
      "metadata": {
        "id": "view-in-github",
        "colab_type": "text"
      },
      "source": [
        "<a href=\"https://colab.research.google.com/github/itzelmor02/Aprendizaje-de-Patrones-IMG/blob/main/Practica05.ipynb\" target=\"_parent\"><img src=\"https://colab.research.google.com/assets/colab-badge.svg\" alt=\"Open In Colab\"/></a>"
      ]
    },
    {
      "cell_type": "markdown",
      "source": [
        "Realiza una regresión polinomial del conjunto de entrenamiento probando distintos grados\n",
        "de polinomio. Calcula el sesgo y varianza para cada grado utilizado. Imprime\n",
        "los resultados en un dataframe de pandas: grado del polinomio, sesgo, varianza, MAE,\n",
        "MSE, R2"
      ],
      "metadata": {
        "id": "oSR0QyGZWwXM"
      }
    },
    {
      "cell_type": "code",
      "source": [
        "import numpy as np\n",
        "import pandas as pd\n",
        "from sklearn.model_selection import train_test_split\n",
        "from sklearn.preprocessing import PolynomialFeatures\n",
        "from sklearn.linear_model import LinearRegression\n",
        "from sklearn.metrics import mean_absolute_error, mean_squared_error, r2_score\n",
        "\n",
        "# Definimos scale = 7.53\n",
        "scale = 7.53\n",
        "\n",
        "# Generamos las muestras aleatorias de Rayleigh\n",
        "sample_size = 10000\n",
        "rayleigh_samples = np.random.rayleigh(scale, size=sample_size)\n",
        "\n",
        "# Definimos los puntos para el histograma\n",
        "num_bins = 160\n",
        "\n",
        "# Creamos el histograma\n",
        "hist, bins = np.histogram(rayleigh_samples, bins=num_bins, density=True)\n",
        "\n",
        "# Obtener puntos como valores x\n",
        "x_values = (bins[:-1] + bins[1:]) / 2\n",
        "\n",
        "# Dividimos los datos en conjuntos de entrenamiento y de prueba (80-20)\n",
        "x_train, x_test, y_train, y_test = train_test_split(x_values, hist, test_size=0.2, random_state=42)\n",
        "\n",
        "# Dividimos el conjunto de entrenamiento en conjuntos de entrenamiento y validación (80-20)\n",
        "x_train, x_val, y_train, y_val = train_test_split(x_train, y_train, test_size=0.2, random_state=42)\n",
        "\n",
        "# Definimos los grados de polinomios que vamos a usar\n",
        "degrees = [1, 2, 3, 4, 5]\n",
        "\n",
        "# Creamos listas para guardar los resultados\n",
        "results = []\n",
        "\n",
        "# Iteramos sobre cada grado\n",
        "for degree in degrees:\n",
        "    # Transformamos las características a características polinomiales\n",
        "    poly_features = PolynomialFeatures(degree=degree)\n",
        "    X_train_poly = poly_features.fit_transform(x_train.reshape(-1, 1))\n",
        "    X_val_poly = poly_features.transform(x_val.reshape(-1, 1))\n",
        "\n",
        "    # Ajustamos el modelo de regresión lineal\n",
        "    model = LinearRegression()\n",
        "    model.fit(X_train_poly, y_train)\n",
        "\n",
        "    # Predecimos en el conjunto de validación\n",
        "    val_predictions = model.predict(X_val_poly)\n",
        "\n",
        "    # Calculamos bias^2\n",
        "    bias_sq = np.mean((val_predictions - y_val)**2)\n",
        "\n",
        "    # Calculamos variance\n",
        "    variance = np.var(val_predictions)\n",
        "\n",
        "    # Calculamos MAE\n",
        "    mae = mean_absolute_error(y_val, val_predictions)\n",
        "\n",
        "    # Calculamos MSE\n",
        "    mse = mean_squared_error(y_val, val_predictions)\n",
        "\n",
        "    # Calculamos R^2\n",
        "    r2 = r2_score(y_val, val_predictions)\n",
        "\n",
        "    # Agregamos resultados a la lista\n",
        "    results.append([degree, bias_sq, variance, mae, mse, r2])\n",
        "\n",
        "# Creamos el dataframe de pandas\n",
        "results_df = pd.DataFrame(results, columns=['Degree', 'Bias^2', 'Variance', 'MAE', 'MSE', 'R2'])\n",
        "print(results_df)\n"
      ],
      "metadata": {
        "colab": {
          "base_uri": "https://localhost:8080/"
        },
        "id": "DLRNN-bOWxnx",
        "outputId": "7658ee3d-5d84-4e56-ec4b-d9db4bdfc7de"
      },
      "execution_count": null,
      "outputs": [
        {
          "output_type": "stream",
          "name": "stdout",
          "text": [
            "   Degree    Bias^2  Variance       MAE       MSE        R2\n",
            "0       1  0.000264  0.000383  0.013164  0.000264  0.699030\n",
            "1       2  0.000279  0.000524  0.014843  0.000279  0.681133\n",
            "2       3  0.000064  0.000854  0.007015  0.000064  0.926990\n",
            "3       4  0.000012  0.000859  0.002683  0.000012  0.986053\n",
            "4       5  0.000012  0.000867  0.002810  0.000012  0.986101\n"
          ]
        }
      ]
    },
    {
      "cell_type": "markdown",
      "source": [
        "Repetimos el análisis usando regularización y validación cruzada"
      ],
      "metadata": {
        "id": "RJVEGtZ8VNnB"
      }
    },
    {
      "cell_type": "code",
      "source": [
        "import numpy as np\n",
        "import pandas as pd\n",
        "from sklearn.model_selection import train_test_split, cross_val_score\n",
        "from sklearn.preprocessing import PolynomialFeatures, StandardScaler\n",
        "from sklearn.linear_model import RidgeCV\n",
        "from sklearn.pipeline import make_pipeline\n",
        "from sklearn.metrics import mean_absolute_error, mean_squared_error, r2_score\n",
        "\n",
        "# Definimos scale = 7.53\n",
        "scale = 7.53\n",
        "\n",
        "# Generamos las muestras aleatorias de Rayleigh\n",
        "sample_size = 10000\n",
        "rayleigh_samples = np.random.rayleigh(scale, size=sample_size)\n",
        "\n",
        "# Definimos los puntos para el histograma\n",
        "num_bins = 160\n",
        "\n",
        "# Creamos el histograma\n",
        "hist, bins = np.histogram(rayleigh_samples, bins=num_bins, density=True)\n",
        "\n",
        "# Obtener puntos como valores x\n",
        "x_values = (bins[:-1] + bins[1:]) / 2\n",
        "\n",
        "# Dividimos los datos en conjuntos de entrenamiento y de prueba (80-20)\n",
        "x_train, x_test, y_train, y_test = train_test_split(x_values, hist, test_size=0.2, random_state=42)\n",
        "\n",
        "# Dividimos el conjunto de entrenamiento en conjuntos de entrenamiento y validación (80-20)\n",
        "x_train, x_val, y_train, y_val = train_test_split(x_train, y_train, test_size=0.2, random_state=42)\n",
        "\n",
        "# Definimos los grados de polinomios que vamos a usar\n",
        "degrees = [1, 2, 3, 4, 5]\n",
        "\n",
        "# Creamos listas para guardar los resultados\n",
        "results = []\n",
        "\n",
        "# Iteramos sobre cada grado\n",
        "for degree in degrees:\n",
        "    # Creamos una tubería con características polinómicas y regresión de crestas con validación cruzada\n",
        "    model = make_pipeline(PolynomialFeatures(degree), StandardScaler(), RidgeCV(alphas=np.logspace(-6, 6, 13)))\n",
        "\n",
        "    # Ajustamos el modelo\n",
        "    model.fit(x_train.reshape(-1, 1), y_train)\n",
        "\n",
        "    # Predecimos en el conjunto de validación\n",
        "    val_predictions = model.predict(x_val.reshape(-1, 1))\n",
        "\n",
        "    # Calculamos MAE\n",
        "    mae = mean_absolute_error(y_val, val_predictions)\n",
        "\n",
        "    # Calculamos MSE\n",
        "    mse = mean_squared_error(y_val, val_predictions)\n",
        "\n",
        "    # Calculamos R^2\n",
        "    r2 = r2_score(y_val, val_predictions)\n",
        "\n",
        "    # Usamos validación cruzada para obtener el promedio de R^2\n",
        "    cv_scores = cross_val_score(model, x_train.reshape(-1, 1), y_train, cv=5, scoring='r2')\n",
        "    avg_cv_r2 = np.mean(cv_scores)\n",
        "\n",
        "    # Agregamos los resultados a la lista\n",
        "    results.append([degree, mae, mse, r2, avg_cv_r2])\n",
        "\n",
        "# Creamos el dataframe de pandas\n",
        "results_df = pd.DataFrame(results, columns=['Degree', 'MAE', 'MSE', 'R2', 'CV R2'])\n",
        "print(results_df)"
      ],
      "metadata": {
        "colab": {
          "base_uri": "https://localhost:8080/"
        },
        "id": "SNL_JyJSs2ph",
        "outputId": "0752630d-1a07-45a4-a268-5637f62fc7e2"
      },
      "execution_count": null,
      "outputs": [
        {
          "output_type": "stream",
          "name": "stdout",
          "text": [
            "   Degree       MAE       MSE        R2     CV R2\n",
            "0       1  0.020586  0.000570  0.417507  0.379902\n",
            "1       2  0.014849  0.000304  0.689084  0.537440\n",
            "2       3  0.006853  0.000063  0.935840  0.902751\n",
            "3       4  0.002702  0.000016  0.984025  0.981129\n",
            "4       5  0.003136  0.000016  0.983866  0.981909\n"
          ]
        }
      ]
    },
    {
      "cell_type": "markdown",
      "source": [
        "**Mejor modelo polinomial**\n",
        "El primer modelo porque muestra un bias ^2, varianza, MAE y MSE más bajos, junto con valores R2 más altos, lo que indica un mejor rendimiento del modelo en términos de ajuste a los datos y precisión de la predicción."
      ],
      "metadata": {
        "id": "4_CVKlTztZze"
      }
    },
    {
      "cell_type": "code",
      "source": [
        "import numpy as np\n",
        "from sklearn.metrics import mean_absolute_error, mean_squared_error, r2_score\n",
        "\n",
        "# Generamos muestras aleatorias a partir de la distribución de Rayleigh utilizando el parámetro de escala MLE\n",
        "sample_size = 10000\n",
        "rayleigh_samples_mle = np.random.rayleigh(mle_scale, size=sample_size)\n",
        "\n",
        "# Damos las métricas de rendimiento\n",
        "polynomial_results = {\n",
        "    'Degree': [1, 2, 3, 4, 5],\n",
        "    'Bias^2': [0.000264, 0.000279, 0.000064, 0.000012, 0.000012],\n",
        "    'Variance': [0.000383, 0.000524, 0.000854, 0.000859, 0.000867],\n",
        "    'MAE': [0.013164, 0.014843, 0.007015, 0.002683, 0.002810],\n",
        "    'MSE': [0.000264, 0.000279, 0.000064, 0.000012, 0.000012],\n",
        "    'R2': [0.699030, 0.681133, 0.926990, 0.986053, 0.986101]\n",
        "}\n",
        "\n",
        "# Calculamos métricas de rendimiento para el modelo de distribución de Rayleigh utilizando el parámetro de escala MLE\n",
        "mle_mae = mean_absolute_error(rayleigh_samples_mle, np.zeros_like(rayleigh_samples_mle))\n",
        "mle_mse = mean_squared_error(rayleigh_samples_mle, np.zeros_like(rayleigh_samples_mle))\n",
        "mle_r2 = r2_score(rayleigh_samples_mle, np.zeros_like(rayleigh_samples_mle))\n",
        "\n",
        "# Imprimimos las métricas de rendimiento para comparar\n",
        "print(\"Mejor modelo:\")\n",
        "print(\"Degree    MAE       MSE        R2\")\n",
        "for i in range(len(polynomial_results['Degree'])):\n",
        "    print(\"{}       {:.6f}  {:.6f}  {:.6f}\".format(polynomial_results['Degree'][i],\n",
        "                                                    polynomial_results['MAE'][i],\n",
        "                                                    polynomial_results['MSE'][i],\n",
        "                                                    polynomial_results['R2'][i]))\n",
        "\n",
        "print(\"\\nRendimiento Modelo de Distribución de Rayleigh(MLE):\")\n",
        "print(\"MAE:\", mle_mae)\n",
        "print(\"MSE:\", mle_mse)\n",
        "print(\"R2:\", mle_r2)"
      ],
      "metadata": {
        "colab": {
          "base_uri": "https://localhost:8080/"
        },
        "id": "NOYn7P2_vfMd",
        "outputId": "0e738777-add2-45b7-ef2b-1eb00bc71763"
      },
      "execution_count": null,
      "outputs": [
        {
          "output_type": "stream",
          "name": "stdout",
          "text": [
            "Mejor modelo:\n",
            "Degree    MAE       MSE        R2\n",
            "1       0.013164  0.000264  0.699030\n",
            "2       0.014843  0.000279  0.681133\n",
            "3       0.007015  0.000064  0.926990\n",
            "4       0.002683  0.000012  0.986053\n",
            "5       0.002810  0.000012  0.986101\n",
            "\n",
            "Rendimiento Modelo de Distribución de Rayleigh(MLE):\n",
            "MAE: 4.887027457522986\n",
            "MSE: 30.480070858475013\n",
            "R2: -3.6202692338033255\n"
          ]
        }
      ]
    }
  ]
}