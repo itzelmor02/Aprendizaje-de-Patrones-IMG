{
  "nbformat": 4,
  "nbformat_minor": 0,
  "metadata": {
    "colab": {
      "provenance": [],
      "authorship_tag": "ABX9TyPRr1nda2gwUH8wMjflPHWh",
      "include_colab_link": true
    },
    "kernelspec": {
      "name": "python3",
      "display_name": "Python 3"
    },
    "language_info": {
      "name": "python"
    }
  },
  "cells": [
    {
      "cell_type": "markdown",
      "metadata": {
        "id": "view-in-github",
        "colab_type": "text"
      },
      "source": [
        "<a href=\"https://colab.research.google.com/github/itzelmor02/Aprendizaje-de-Patrones-IMG/blob/main/Pr%C3%A1ctica2.ipynb\" target=\"_parent\"><img src=\"https://colab.research.google.com/assets/colab-badge.svg\" alt=\"Open In Colab\"/></a>"
      ]
    },
    {
      "cell_type": "code",
      "source": [
        "from keras.datasets import mnist\n",
        "import numpy as np\n",
        "\n",
        "(x_train, y_train), (x_test, y_test) = mnist.load_data()\n",
        "\n",
        "# Se obtiene una muestra con igual número de: cincos vs no cincos\n",
        "# para el conjunto de entrenamiento y el de test\n",
        "idx_y_train_5 = np.where(y_train == 5)[0]\n",
        "idx_y_train_n5 = np.where(y_train != 5)[0]\n",
        "idx_y_train_n5 = np.random.choice(idx_y_train_n5, idx_y_train_5.shape[0], replace=False)\n",
        "\n",
        "idx_y_train = np.concatenate([idx_y_train_5, idx_y_train_n5])\n",
        "np.random.shuffle(idx_y_train)\n",
        "\n",
        "x_train = x_train[idx_y_train]\n",
        "y_train = y_train[idx_y_train]\n",
        "print(x_train.shape)\n",
        "\n",
        "idx_y_test_5 = np.where(y_test == 5)[0]\n",
        "idx_y_test_n5 = np.where(y_test != 5)[0]\n",
        "idx_y_test_n5 = np.random.choice(idx_y_test_n5, idx_y_test_5.shape[0], replace=False)\n",
        "\n",
        "idx_y_test = np.concatenate([idx_y_test_5, idx_y_test_n5])\n",
        "np.random.shuffle(idx_y_test)\n",
        "\n",
        "x_test = x_test[idx_y_test]\n",
        "y_test = y_test[idx_y_test]\n",
        "print(x_test.shape)\n",
        "\n",
        "y_train_binary = (y_train == 5).astype(int)\n",
        "y_test_binary = (y_test == 5).astype(int)"
      ],
      "metadata": {
        "id": "50CNad4MEsHq"
      },
      "execution_count": null,
      "outputs": []
    },
    {
      "cell_type": "markdown",
      "source": [
        "Aquí vamos a cambiar los valores para poder hacer los entrenamientos"
      ],
      "metadata": {
        "id": "i8dgLS6gIhNr"
      }
    },
    {
      "cell_type": "code",
      "source": [
        "from keras.models import Sequential\n",
        "from keras.layers import Flatten, Dense\n",
        "from keras.metrics import F1Score\n",
        "\n",
        "model = Sequential([\n",
        "    Flatten(input_shape=(28, 28)),\n",
        "    Dense(1)\n",
        "])\n",
        "\n",
        "print(model.summary())\n",
        "\n",
        "model.compile(loss='binary_crossentropy', metrics=['accuracy'])\n",
        "model.fit(x_train, y_train_binary, epochs=4, batch_size=2000, validation_split=0.9)\n",
        "#model.fit(x_train, y_train_binary, epochs=20, batch_size=2000, validation_split=0.9)\n",
        "#model.fit(x_train, y_train_binary, epochs=4, batch_size=2, validation_split=0.9)\n",
        "#model.fit(x_train, y_train_binary, epochs=4, batch_size=2000, validation_split=0.01)\n",
        "#model.fit(x_train, y_train_binary, epochs=20, batch_size=10, validation_split=0.01)"
      ],
      "metadata": {
        "id": "3aBy0CQvHcT9"
      },
      "execution_count": null,
      "outputs": []
    },
    {
      "cell_type": "code",
      "source": [
        "from sklearn.metrics import confusion_matrix, \\\n",
        "precision_score, recall_score,f1_score\n",
        "\n",
        "y_pred = (model.predict(x_test) >= 0.5).astype(int)[:,0]\n",
        "\n",
        "conf_matrix = confusion_matrix(y_test_binary, y_pred)\n",
        "print(\"Matriz de confusión:\")\n",
        "print(conf_matrix)\n",
        "\n",
        "precision = precision_score(y_test_binary, y_pred)\n",
        "print(\"Precision_1:\", precision)\n",
        "recall = recall_score(y_test_binary, y_pred)\n",
        "print(\"Recall_1:\", recall)\n",
        "f1_s = f1_score(y_test_binary, y_pred)\n",
        "print(\"F1-score_1:\", f1_s)\n",
        "\n",
        "\n",
        "precision_0 = precision_score(y_test_binary, y_pred, pos_label=0)\n",
        "print(\"Precision_0:\", precision_0)\n",
        "recall_0 = recall_score(y_test_binary, y_pred, pos_label=0)\n",
        "print(\"Recall_0:\", recall_0)\n",
        "f1_s_0 = f1_score(y_test_binary, y_pred, pos_label=0)\n",
        "print(\"F1-score_0:\", f1_s_0)"
      ],
      "metadata": {
        "id": "Bcb43x96H6xD"
      },
      "execution_count": null,
      "outputs": []
    }
  ]
}