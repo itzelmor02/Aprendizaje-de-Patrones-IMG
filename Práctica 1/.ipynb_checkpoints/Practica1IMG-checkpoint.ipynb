{
 "cells": [
  {
   "cell_type": "markdown",
   "id": "d9f7b7d6-0f51-4e02-94a0-fd61e366049b",
   "metadata": {},
   "source": [
    "# Reconocimiento de Patrones y Aprendizaje Automatizado\n",
    "## Práctica 1. Fundamentos en Python\n",
    "\n",
    "Profesores: Miguel Daniel Garrido Reyes\\\n",
    "Ayudante: Melissa Vázquez González\\\n",
    "Ayud. Lab.: Luis Emilio González Covarrubias\n",
    "\n",
    "Alumna: Itzel Morales García        No. Cuenta: 318310420\n",
    "\n",
    "## Ejercicios\n",
    "### El mínimo, máximo, media y desviación estándar tanto para el número de horas dedicadas como para las calificaciones obtenidas.\n"
   ]
  },
  {
   "cell_type": "code",
   "execution_count": 1,
   "id": "2e9e59cd-4a2e-4dad-ada3-914057000515",
   "metadata": {},
   "outputs": [],
   "source": [
    "import pandas as pd\n",
    "import matplotlib.pyplot as plt\n",
    "from sklearn.linear_model import LinearRegression\n",
    "from sklearn.impute import SimpleImputer"
   ]
  },
  {
   "cell_type": "code",
   "execution_count": 2,
   "id": "36503988-3a05-44b6-a12d-ec615f4c774c",
   "metadata": {},
   "outputs": [
    {
     "name": "stdout",
     "output_type": "stream",
     "text": [
      "              nombre     apellido   horas_dedicadas  calificaciones_obtenida\n",
      "0      Sofía Sánchez    Rodríguez                52                       45\n",
      "1        Luis Romero       Romero                 2                      nan\n",
      "2          Juan Díaz        López               170                      100\n",
      "3   Miguel Hernández      Álvarez                42                      nan\n",
      "4      Juan González         Díaz               125                       70\n",
      "5        Juan García    Fernández                47                       40\n",
      "6        Luis Romero        López               149                      100\n",
      "7   Miguel Fernández       Romero               162                       80\n",
      "8       Carmen Pérez      Álvarez               139                       45\n",
      "9     Juan Rodríguez       Romero                18                       30\n",
      "10       Paula Pérez         Díaz                30                        0\n",
      "11     Ana Fernández       García               152                      100\n",
      "12        Ana García      \\tLópez                51                        0\n",
      "13     Miguel Romero      Sánchez               164                       98\n",
      "14    Antonio García        Muñoz                93                       60\n",
      "15      Paula Romero      Sánchez               162                      100\n",
      "16      Diego Romero         Díaz                55                       40\n",
      "17         Ana Pérez    Rodríguez               178                       70\n",
      "18       Paula López        Muñoz                97                       80\n",
      "19    Carlos Sánchez  \\tRodríguez               100                       95\n"
     ]
    }
   ],
   "source": [
    "#Cargamos los datos\n",
    "df = pd.read_csv('grades_data.csv')\n",
    "#visualiza el csv\n",
    "print(df)"
   ]
  },
  {
   "cell_type": "code",
   "execution_count": 3,
   "id": "ff90144b-8fb1-46b1-80ed-66975d8d4030",
   "metadata": {},
   "outputs": [
    {
     "name": "stdout",
     "output_type": "stream",
     "text": [
      "Estadísticas de Horas Dedicadas:\n",
      "Mínimo: 2\n",
      "Máximo: 178\n",
      "Media: 99.4\n",
      "Desviación Estándar: 58.129075974801204\n",
      "\n",
      "Estadísticas de Calificaciones Obtenidas:\n",
      "Mínimo: 0.0\n",
      "Máximo: 100.0\n",
      "Media: 64.05555555555556\n",
      "Desviación Estándar: 33.539217119177366\n"
     ]
    }
   ],
   "source": [
    "#Nos aseguramos de que los nombres de las columnas en el DataFrame estén limpios de espacios en blanco adicionales\n",
    "df.columns = df.columns.str.strip()\n",
    "\n",
    "#Hacemos una copia del Data\n",
    "df_copia = df.copy()\n",
    "\n",
    "#Eliminamos las filas con valores no numéricos en 'calificaciones_obtenida'\n",
    "df_copia = df_copia.dropna(subset=['calificaciones_obtenida'])\n",
    "df_copia['calificaciones_obtenida'] = pd.to_numeric(df_copia['calificaciones_obtenida'], errors='coerce')\n",
    "\n",
    "#Calculamos el mínimo, máximo, media y desviación estándar de las horas dedicadas\n",
    "min_horas_dedicadas = df_copia['horas_dedicadas'].min()\n",
    "max_horas_dedicadas = df_copia['horas_dedicadas'].max()\n",
    "media_horas_dedicadas = df_copia['horas_dedicadas'].mean()\n",
    "std_horas_dedicadas = df_copia['horas_dedicadas'].std()\n",
    "\n",
    "#Tambipen claculamos el mínimo, máximo, media y desviación estándar de las calificaciones obtenidas\n",
    "min_calificaciones = df_copia['calificaciones_obtenida'].min()\n",
    "max_calificaciones = df_copia['calificaciones_obtenida'].max()\n",
    "media_calificaciones = df_copia['calificaciones_obtenida'].mean()\n",
    "std_calificaciones = df_copia['calificaciones_obtenida'].std()\n",
    "\n",
    "#imprimimos todo\n",
    "print(\"Estadísticas de Horas Dedicadas:\")\n",
    "print(f\"Mínimo: {min_horas_dedicadas}\")\n",
    "print(f\"Máximo: {max_horas_dedicadas}\")\n",
    "print(f\"Media: {media_horas_dedicadas}\")\n",
    "print(f\"Desviación Estándar: {std_horas_dedicadas}\")\n",
    "\n",
    "print(\"\\nEstadísticas de Calificaciones Obtenidas:\")\n",
    "print(f\"Mínimo: {min_calificaciones}\")\n",
    "print(f\"Máximo: {max_calificaciones}\")\n",
    "print(f\"Media: {media_calificaciones}\")\n",
    "print(f\"Desviación Estándar: {std_calificaciones}\")"
   ]
  },
  {
   "cell_type": "markdown",
   "id": "d35627cd-254d-4652-80ac-ba3883adfe61",
   "metadata": {},
   "source": [
    "### Lleva a cabo un análisis de regresión lineal utilizando estos datos y presenta un gráfico que muestre el modelo de regresión junto con los datos originales"
   ]
  },
  {
   "cell_type": "code",
   "execution_count": 4,
   "id": "052380a7-99a1-4c79-a6ca-0ba12ee2aa3d",
   "metadata": {
    "scrolled": true
   },
   "outputs": [
    {
     "data": {
      "image/png": "[encoded data removed]",
      "text/plain": [
       "<Figure size 432x288 with 1 Axes>"
      ]
     },
     "metadata": {
      "needs_background": "light"
     },
     "output_type": "display_data"
    }
   ],
   "source": [
    "#Hacemos una copia del Data nuevamente\n",
    "df_copia = df.copy()\n",
    "\n",
    "#Eliminamos filas con valores NaN en 'horas_dedicadas' y 'calificaciones_obtenida'\n",
    "df_copia.dropna(subset=['horas_dedicadas', 'calificaciones_obtenida'], inplace=True)\n",
    "\n",
    "#Extraemos las variables independientes (X) y dependientes (y)\n",
    "X = df_copia[['horas_dedicadas']]\n",
    "y = df['calificaciones_obtenida']\n",
    "\n",
    "#Impoutamos valores faltantes en X y y\n",
    "imputer = SimpleImputer(strategy='mean')\n",
    "X = imputer.fit_transform(X)\n",
    "y = imputer.fit_transform(y.values.reshape(-1, 1))\n",
    "\n",
    "#Creamos el modelo de regresión lineal\n",
    "model = LinearRegression()\n",
    "model.fit(X, y)\n",
    "\n",
    "#Cacemos las predicciones usando el modelo entrenado\n",
    "predicted_grades = model.predict(X)\n",
    "\n",
    "#Ploteamos los datos originales y la línea de regresión\n",
    "plt.scatter(X, y, color='blue', label='Datos Originales')\n",
    "plt.plot(X, predicted_grades, color='red', label='Línea de Regresión')\n",
    "\n",
    "plt.title('Análisis de Regresión Lineal')\n",
    "plt.xlabel('Horas Dedicadas')\n",
    "plt.ylabel('Calificación Obtenida')\n",
    "plt.legend()\n",
    "plt.grid(True)\n",
    "plt.show()\n"
   ]
  },
  {
   "cell_type": "markdown",
   "id": "7a7e911f-844e-47df-987c-c2af27e0c5cf",
   "metadata": {},
   "source": [
    "### Utiliza el modelo de regresión para realizar una predicción de la calificación de un estudiante que hubiera dedicado n horas en el semestre a la materia (donde n es la suma de los d ́ıgitos de su n ́umero de cuenta módulo 50)."
   ]
  },
  {
   "cell_type": "code",
   "execution_count": 5,
   "id": "fc007d9c-a482-446b-84da-9cd08fd9d365",
   "metadata": {},
   "outputs": [
    {
     "name": "stdout",
     "output_type": "stream",
     "text": [
      "La calificación predicha para un estudiante que dedicó 22 horas es: 33.82773596452242\n"
     ]
    }
   ],
   "source": [
    "#Función para predecir la calificación basada en horas dedicadas\n",
    "def predict_grade(hours):\n",
    "    return model.predict([[hours]])\n",
    "\n",
    "#Calculamos n como la suma de los dígitos de '318310420' módulo 50\n",
    "n = sum(map(int, str(318310420))) % 50\n",
    "\n",
    "#Hacemos la predicción para n horas dedicadas\n",
    "predicted_grade = predict_grade(n)\n",
    "\n",
    "print(f\"La calificación predicha para un estudiante que dedicó {n} horas es: {predicted_grade[0][0]}\")"
   ]
  },
  {
   "cell_type": "markdown",
   "id": "4e77bd79-df23-4e5c-aaf4-bf9011322369",
   "metadata": {},
   "source": [
    "### Investiga métodos para evaluar la bondad de ajuste a tu modelo y determinar cuán efectivamente explica el comportamiento de los datos."
   ]
  },
  {
   "cell_type": "markdown",
   "id": "e2c0d4f9-4567-4949-9378-407c6c153de9",
   "metadata": {},
   "source": [
    "Gráficos de residuos: Los gráficos de residuos son útiles para visualizar la diferencia entre los valores predichos por el modelo y los valores reales. Si los residuos se distribuyen de manera aleatoria alrededor de cero y no muestran patrones discernibles, es una indicación de un buen ajuste del modelo.\n",
    "Coeficiente de determinación (R cuadrado): Este es uno de los métodos más utilizados para evaluar la bondad de ajuste. R cuadrado varía entre 0 y 1, donde 0 indica que el modelo no explica la variabilidad de los datos y 1 indica un ajuste perfecto. En general, cuanto más cercano a 1 esté R cuadrado, mejor será el ajuste del modelo a los datos observados."
   ]
  },
  {
   "cell_type": "code",
   "execution_count": null,
   "id": "e6b508d5-b53b-4777-a219-f4096279deb4",
   "metadata": {},
   "outputs": [],
   "source": []
  }
 ],
 "metadata": {
  "kernelspec": {
   "display_name": "Python 3 (ipykernel)",
   "language": "python",
   "name": "python3"
  },
  "language_info": {
   "codemirror_mode": {
    "name": "ipython",
    "version": 3
   },
   "file_extension": ".py",
   "mimetype": "text/x-python",
   "name": "python",
   "nbconvert_exporter": "python",
   "pygments_lexer": "ipython3",
   "version": "3.11.2"
  },
  "vscode": {
   "interpreter": {
    "hash": "e7370f93d1d0cde622a1f8e1c04877d8463912d04d973331ad4851f04de6915a"
   }
  }
 },
 "nbformat": 4,
 "nbformat_minor": 5
}
